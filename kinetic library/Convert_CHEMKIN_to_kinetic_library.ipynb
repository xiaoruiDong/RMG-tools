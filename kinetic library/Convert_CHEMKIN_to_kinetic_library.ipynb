{
 "cells": [
  {
   "cell_type": "markdown",
   "metadata": {},
   "source": [
    "# Convert chemkin to kinetic library"
   ]
  },
  {
   "cell_type": "markdown",
   "metadata": {},
   "source": [
    "### Necessary packages"
   ]
  },
  {
   "cell_type": "code",
   "execution_count": null,
   "metadata": {},
   "outputs": [],
   "source": [
    "import os\n",
    "import logging\n",
    "\n",
    "from rmgpy import settings\n",
    "\n",
    "from toolbox.kineticlib import chemkin_to_kinetic_lib\n",
    "\n",
    "%matplotlib inline\n",
    "%load_ext autoreload\n",
    "%autoreload 2\n",
    "\n",
    "logger = logging.getLogger()\n",
    "logger.setLevel(logging.INFO)"
   ]
  },
  {
   "cell_type": "markdown",
   "metadata": {},
   "source": [
    "### Assign a log file to record all the changes [OPTIONAL]"
   ]
  },
  {
   "cell_type": "code",
   "execution_count": null,
   "metadata": {},
   "outputs": [],
   "source": [
    "fh = logging.FileHandler('kinetic_lib_tools.log', mode=\"a+\")\n",
    "fh.setLevel(logging.INFO)\n",
    "fh.setFormatter(logging.Formatter('%(asctime)s - %(levelname)s: %(message)s'))\n",
    "logger.addHandler(fh)"
   ]
  },
  {
   "cell_type": "markdown",
   "metadata": {},
   "source": [
    "### Code\n",
    "Convert a CHEMKIN file into a RMG kinetic library given species dictionary \n",
    "and the library name.\n",
    "- `chem_path` (str): The path to the CHEMKIN file\n",
    "- `dict_path` (str): The path to a species dictionary\n",
    "- `name` (str): The name of the new library\n",
    "- `save_path` (str): The path to the saving directory. By default, the library will be saved to RMG-database repository\n",
    "- `use_chemkin_names` (bool): Use the original CHEMKIN species name"
   ]
  },
  {
   "cell_type": "code",
   "execution_count": null,
   "metadata": {},
   "outputs": [],
   "source": [
    "chem_path = ''\n",
    "dict_path = ''\n",
    "name = ''\n",
    "save_path = ''\n",
    "use_chemkin_names = True"
   ]
  },
  {
   "cell_type": "code",
   "execution_count": null,
   "metadata": {},
   "outputs": [],
   "source": [
    "chemkin_to_kinetic_lib(chem_path, dict_path, name, save_path, use_chemkin_names)"
   ]
  }
 ],
 "metadata": {
  "kernelspec": {
   "display_name": "Python 3",
   "language": "python",
   "name": "python3"
  },
  "language_info": {
   "codemirror_mode": {
    "name": "ipython",
    "version": 3
   },
   "file_extension": ".py",
   "mimetype": "text/x-python",
   "name": "python",
   "nbconvert_exporter": "python",
   "pygments_lexer": "ipython3",
   "version": "3.7.4"
  }
 },
 "nbformat": 4,
 "nbformat_minor": 2
}
