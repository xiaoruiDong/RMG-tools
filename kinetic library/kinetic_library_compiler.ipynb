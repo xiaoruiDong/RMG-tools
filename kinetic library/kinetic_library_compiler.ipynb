{
 "cells": [
  {
   "cell_type": "markdown",
   "metadata": {},
   "source": [
    "# Kinetic library compiler\n",
    "This script helps compile a kinetic library. By iteratively go through steps, you can build a new kinetic libary with ease."
   ]
  },
  {
   "cell_type": "markdown",
   "metadata": {},
   "source": [
    "### Necessary packages"
   ]
  },
  {
   "cell_type": "code",
   "execution_count": null,
   "metadata": {},
   "outputs": [],
   "source": [
    "import logging\n",
    "\n",
    "from rmgpy import settings\n",
    "from rmgpy.data.rmg import RMGDatabase\n",
    "from rmgpy.reaction import Reaction\n",
    "\n",
    "from toolbox.kineticlib import create_kinetics_entry, \\\n",
    "                               read_kinetic_lib_from_path, \\\n",
    "                               remove_kinetic_entries_from_lib\n",
    "from toolbox.species import read_spc_dict_from_path, add_spc_to_spc_dict,\\\n",
    "                            write_spc_dict_to_path\n",
    "from toolbox.reaction import parse_rxn_label\n",
    "\n",
    "%load_ext autoreload\n",
    "%autoreload 2\n",
    "\n",
    "logger = logging.getLogger()\n",
    "logger.setLevel(logging.INFO)"
   ]
  },
  {
   "cell_type": "markdown",
   "metadata": {},
   "source": [
    "### [OPTIONAL] Assign a log file to record all the changes "
   ]
  },
  {
   "cell_type": "code",
   "execution_count": null,
   "metadata": {},
   "outputs": [],
   "source": [
    "fh = logging.FileHandler('kinetic_lib_compiler.log', mode=\"a+\")\n",
    "fh.setLevel(logging.INFO)\n",
    "fh.setFormatter(logging.Formatter('%(asctime)s - %(levelname)s: %(message)s'))\n",
    "logger.addHandler(fh)"
   ]
  },
  {
   "cell_type": "markdown",
   "metadata": {},
   "source": [
    "### Load a RMG database instance"
   ]
  },
  {
   "cell_type": "code",
   "execution_count": null,
   "metadata": {},
   "outputs": [],
   "source": [
    "database = RMGDatabase()\n",
    "database.load(\n",
    "    path = settings['database.directory'],\n",
    "    thermo_libraries = [],  # Can add other library if necessary\n",
    "    kinetics_families = \"default\",\n",
    "    reaction_libraries = [],\n",
    "    kinetics_depositories = ['training'],\n",
    ")\n",
    "\n",
    "kinetic_db = database.kinetics"
   ]
  },
  {
   "cell_type": "markdown",
   "metadata": {},
   "source": [
    "### [INPUT] Assign the file path of the kinetics library\n",
    "Hint: Need to place species dictionary file 'dictionary.txt' under the same directory to make it valid.\n",
    "If the library file does not existed, a new library will be created\n",
    "- `lib_path` (str): the path to the kinetics library file\n",
    "- `dict_path` (str): the path to the species dictionary file"
   ]
  },
  {
   "cell_type": "code",
   "execution_count": null,
   "metadata": {
    "scrolled": true
   },
   "outputs": [],
   "source": [
    "lib_path = \"\"\n",
    "dict_path =  \"\""
   ]
  },
  {
   "cell_type": "code",
   "execution_count": null,
   "metadata": {
    "scrolled": true
   },
   "outputs": [],
   "source": [
    "read_kinetic_lib_from_path(lib_path, kinetic_db, create=True)\n",
    "kinetic_lib = kinetic_db.libraries[lib_path]\n",
    "spc_dict = read_spc_dict_from_path(dict_path)"
   ]
  },
  {
   "cell_type": "markdown",
   "metadata": {},
   "source": [
    "### [INPUT] Step 1. Add new species entry\n",
    "Add new species to the species dictionary. The script can check if you are adding duplicate labels or duplicate species\n",
    "- `spc_label` (str): the species label. The first character should be alphabetic\n",
    "- `identifier` (str): the identifier of the species. You can use the SMILES, adjacency list, InChI or common names"
   ]
  },
  {
   "cell_type": "code",
   "execution_count": null,
   "metadata": {},
   "outputs": [],
   "source": [
    "spc_label = \"tBA\"\n",
    "identifier = \"\"\"\n",
    "tert-butyl acetate\n",
    "\"\"\""
   ]
  },
  {
   "cell_type": "code",
   "execution_count": null,
   "metadata": {},
   "outputs": [],
   "source": [
    "spc_dict = read_spc_dict_from_path(dict_path)\n",
    "add_spc_to_spc_dict(spc_label, identifier, spc_dict)\n",
    "write_spc_dict_to_path(spc_dict, dict_path)"
   ]
  },
  {
   "cell_type": "markdown",
   "metadata": {},
   "source": [
    "### [INPUT] Step 2. Add reaction label\n",
    "The reaction label. please use `=>` or `<=>` in the reaction label. If any species label is not recoganizable, the script will ask you to correct the label or extend the species dictionary"
   ]
  },
  {
   "cell_type": "code",
   "execution_count": null,
   "metadata": {},
   "outputs": [],
   "source": [
    "label = \"H2O2 <=> O2 + H2\""
   ]
  },
  {
   "cell_type": "code",
   "execution_count": null,
   "metadata": {
    "scrolled": true
   },
   "outputs": [],
   "source": [
    "reactants, products = parse_rxn_label(label, spc_dict, interactive=True, resonance=True)\n",
    "reaction = Reaction(reactants=reactants, products=products)\n",
    "print('label: ' + label )\n",
    "display(reaction)\n",
    "# Check balance\n",
    "if not reaction.is_balanced():\n",
    "    logging.error(\"The reaction is not balanced. (may use wrong labels)\")\n",
    "else:\n",
    "    logging.info(\"The reaction is balanced.\")\n",
    "# Check duplicate\n",
    "for item in kinetic_lib.entries.values():\n",
    "    if reaction.is_isomorphic(item.item):\n",
    "        logging.warn(\"This reaction has a duplicate reaction (index:{0})\".format(item.index))"
   ]
  },
  {
   "cell_type": "markdown",
   "metadata": {},
   "source": [
    "### [INPUT] Step 3. Kinetic data settings\n",
    "This related to settings which are less variant (e.g., the same settings may be consistent across the same paper). Don't assign (`level of theory` and `experiment`) or (`literature_index` and `compute_by`) at the same time."
   ]
  },
  {
   "cell_type": "code",
   "execution_count": null,
   "metadata": {},
   "outputs": [],
   "source": [
    "k_settings = {\n",
    "    'E_unit': 'kcal/mol',  # energy unit: J/mol, kJ/mol, cal/mol, kcal/mol\n",
    "    'A_unit': '1/s',  # A factor unit: \n",
    "    'P_unit': 'kPa',  # pressure unit: Pa, kPa, atm, torr, \n",
    "    'T_unit': 'K',  # temperature unit: K\n",
    "    \n",
    "    'Tmin': 500,\n",
    "    'Tmax': 2000,\n",
    "    'Pmin': None,\n",
    "    'Pmax': None,\n",
    "    \n",
    "    'level_of_theory': 'CBS-QB3',\n",
    "    'experiment': '',\n",
    "    'literature_index': '1',\n",
    "    'compute_by': '',\n",
    "}"
   ]
  },
  {
   "cell_type": "markdown",
   "metadata": {},
   "source": [
    "### [INPUT] Step 4. Reaction kinetic data\n",
    "Currently support `Arrhenius`, `MultiArrhenius` and `PdepArrhenius` kinetics types. All Type support `'active'`, `'A'`, `'n'`, `'Ea'`, `'uncertainty'`, `'multiplier'` and `'T0'` as keys. Assign `True` to the key `'active'` to indicate which data and type to be added. For `Arrhenius`, you need to input numbers, while for others, you need to input a list of numbers. "
   ]
  },
  {
   "cell_type": "code",
   "execution_count": null,
   "metadata": {},
   "outputs": [],
   "source": [
    "k_data = {\n",
    " 'Arrhenius':\n",
    "    {'active': False, 'A': 1, 'n': 1, 'Ea': 1, 'uncertainty': None, 'multiplier': 1},\n",
    " 'MultiArrhenius':\n",
    "    {'active': False, \n",
    "     'A': [1,2],\n",
    "     'n': [0,0], \n",
    "     'Ea': [2,3],\n",
    "    },\n",
    " 'PdepArrhenius':\n",
    "    {'active': True,\n",
    "     'P': [10, 20],\n",
    "     'A': [1,2],\n",
    "     'n': [0,0], \n",
    "     'Ea': [2,3],\n",
    "    }\n",
    "}"
   ]
  },
  {
   "cell_type": "code",
   "execution_count": null,
   "metadata": {
    "scrolled": true
   },
   "outputs": [],
   "source": [
    "entry = create_kinetics_entry(label, reaction, len(kinetic_lib.entries), k_data, k_settings, )\n",
    "print('Index:', entry.index)\n",
    "print('Kinetics:\\n', entry.data)\n",
    "print('Short desc:\\n', entry.short_desc)"
   ]
  },
  {
   "cell_type": "markdown",
   "metadata": {},
   "source": [
    "### Step 5. Save the species dictionary and library"
   ]
  },
  {
   "cell_type": "code",
   "execution_count": null,
   "metadata": {},
   "outputs": [],
   "source": [
    "kinetic_lib.entries.update({entry.index: entry})\n",
    "kinetic_lib.save(lib_path)\n",
    "write_spc_dict_to_path(spc_dict, dict_path)"
   ]
  },
  {
   "cell_type": "markdown",
   "metadata": {},
   "source": [
    "### Remove reactions\n",
    "To remove reactions from the library, you need to supply a list of reaction labels"
   ]
  },
  {
   "cell_type": "code",
   "execution_count": null,
   "metadata": {},
   "outputs": [],
   "source": [
    "remove_rxn_label_list = [\"H2O2 <=> O2 + H2\",]\n",
    "remove_kinetic_entries_from_lib(remove_rxn_label_list, kinetic_lib)"
   ]
  },
  {
   "cell_type": "markdown",
   "metadata": {},
   "source": [
    "Save if you are certain that you want to remove these reactions"
   ]
  },
  {
   "cell_type": "code",
   "execution_count": null,
   "metadata": {},
   "outputs": [],
   "source": [
    "kinetic_lib.save(lib_path)"
   ]
  }
 ],
 "metadata": {
  "@webio": {
   "lastCommId": null,
   "lastKernelId": null
  },
  "kernelspec": {
   "display_name": "Python 3",
   "language": "python",
   "name": "python3"
  },
  "language_info": {
   "codemirror_mode": {
    "name": "ipython",
    "version": 3
   },
   "file_extension": ".py",
   "mimetype": "text/x-python",
   "name": "python",
   "nbconvert_exporter": "python",
   "pygments_lexer": "ipython3",
   "version": "3.7.4"
  }
 },
 "nbformat": 4,
 "nbformat_minor": 2
}
