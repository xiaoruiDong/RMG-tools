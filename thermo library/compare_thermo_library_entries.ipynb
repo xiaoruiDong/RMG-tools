{
 "cells": [
  {
   "cell_type": "markdown",
   "metadata": {},
   "source": [
    "# Compare thermo library entries\n",
    "This code is used to compare thermodynamic properties of entries from a single library to RMG built-in thermo data"
   ]
  },
  {
   "cell_type": "markdown",
   "metadata": {},
   "source": [
    "### Necessary package"
   ]
  },
  {
   "cell_type": "code",
   "execution_count": null,
   "metadata": {},
   "outputs": [],
   "source": [
    "import logging\n",
    "import os\n",
    "\n",
    "from rmgpy import settings\n",
    "from rmgpy.data.rmg import RMGDatabase\n",
    "from rmgpy.species import Species\n",
    "\n",
    "from toolbox.base import read_species_from_yml, write_species_to_yml\n",
    "from toolbox.thermolib import find_thermo_libs, read_thermo_lib_by_path, \\\n",
    "                              merge_thermo_lib, draw_free_energies\n",
    "\n",
    "%matplotlib inline\n",
    "try:\n",
    "    %config InlineBackend.figure_format = 'retina'\n",
    "except:\n",
    "    pass\n",
    "\n",
    "%load_ext autoreload\n",
    "%autoreload 2\n",
    "\n",
    "logger = logging.getLogger()\n",
    "logger.setLevel(logging.INFO)"
   ]
  },
  {
   "cell_type": "markdown",
   "metadata": {},
   "source": [
    "###  [OPTIONAL] Assign a log file to record all the changes"
   ]
  },
  {
   "cell_type": "code",
   "execution_count": null,
   "metadata": {},
   "outputs": [],
   "source": [
    "fh = logging.FileHandler('thermo_lib_tools.log', mode=\"a+\")\n",
    "fh.setLevel(logging.INFO)\n",
    "fh.setFormatter(logging.Formatter('%(asctime)s - %(levelname)s: %(message)s'))\n",
    "logger.addHandler(fh)"
   ]
  },
  {
   "cell_type": "markdown",
   "metadata": {},
   "source": [
    "### [INPUT] Assign the built-in library to be compared with"
   ]
  },
  {
   "cell_type": "code",
   "execution_count": null,
   "metadata": {},
   "outputs": [],
   "source": [
    "thermo_libs = ['primaryThermoLibrary', \n",
    "              'Klippenstein_Glarborg2016',\n",
    "              'thermo_DFT_CCSDTF12_BAC',\n",
    "              'BurkeH2O2',\n",
    "              'DFT_QCI_thermo',\n",
    "              'Narayanaswamy',\n",
    "              'BurcatNS',\n",
    "              'CHO']"
   ]
  },
  {
   "cell_type": "markdown",
   "metadata": {},
   "source": [
    "### Load a RMG database instance"
   ]
  },
  {
   "cell_type": "code",
   "execution_count": null,
   "metadata": {},
   "outputs": [],
   "source": [
    "database = RMGDatabase()\n",
    "database.load(\n",
    "    path = settings['database.directory'],\n",
    "    thermo_libraries = thermo_libs,\n",
    "    kinetics_families = \"default\",\n",
    "    reaction_libraries = [],\n",
    "    kinetics_depositories = ['training'],\n",
    ")\n",
    "\n",
    "thermo_database = database.thermo"
   ]
  },
  {
   "cell_type": "markdown",
   "metadata": {},
   "source": [
    "### Input\n",
    "- `lib_path` (str): the full path to a RMG thermo library you want to compare\n",
    "- `disp` (bool): Whether to display the species structure\n",
    "- `compare_to_grp` (bool): whether compare to group "
   ]
  },
  {
   "cell_type": "code",
   "execution_count": null,
   "metadata": {},
   "outputs": [],
   "source": [
    "lib_path = ''\n",
    "disp = True\n",
    "compare_to_grp = False"
   ]
  },
  {
   "cell_type": "code",
   "execution_count": null,
   "metadata": {},
   "outputs": [],
   "source": [
    "# Read the thermo library\n",
    "read_thermo_lib_by_path(lib_path, thermo_database)\n",
    "for label, entry in thermo_database.libraries[lib_path].entries.items():\n",
    "    # Convert molecule instance to species instance\n",
    "    spc = Species().from_smiles(entry.item.to_smiles())\n",
    "    if compare_to_grp:\n",
    "        data_list = [data[0] for data in thermo_database.get_all_thermo_data(spc)]\n",
    "    else:\n",
    "        data_list = [data[0] for data in thermo_database.get_all_thermo_data(spc) \n",
    "                      if \"group\" not in data[0].comment]\n",
    "    \n",
    "    # If only find the data from lib_path, then pass\n",
    "    if len(data_list) != 1:\n",
    "        # display the molecule\n",
    "        if disp:\n",
    "            display(entry.item)\n",
    "            legends = [data.comment for data in data_list]\n",
    "        if lib_path not in legends:\n",
    "            data_list.append(entry.data)\n",
    "            legends.append(lib_path)\n",
    "        draw_free_energies(data_list, label=label, T_min=300, T_max=2000, size=6, legends=legends)\n",
    "        "
   ]
  }
 ],
 "metadata": {
  "kernelspec": {
   "display_name": "Python 3",
   "language": "python",
   "name": "python3"
  },
  "language_info": {
   "codemirror_mode": {
    "name": "ipython",
    "version": 3
   },
   "file_extension": ".py",
   "mimetype": "text/x-python",
   "name": "python",
   "nbconvert_exporter": "python",
   "pygments_lexer": "ipython3",
   "version": "3.7.4"
  }
 },
 "nbformat": 4,
 "nbformat_minor": 2
}
