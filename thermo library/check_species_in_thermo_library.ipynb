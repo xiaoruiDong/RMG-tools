{
 "cells": [
  {
   "cell_type": "markdown",
   "metadata": {},
   "source": [
    "# Check if a species is contained in certain thermo libraries"
   ]
  },
  {
   "cell_type": "markdown",
   "metadata": {},
   "source": [
    "### Necessary dependencies"
   ]
  },
  {
   "cell_type": "code",
   "execution_count": null,
   "metadata": {},
   "outputs": [],
   "source": [
    "import logging\n",
    "import os\n",
    "\n",
    "from rmgpy import settings\n",
    "from rmgpy.data.rmg import RMGDatabase\n",
    "\n",
    "from toolbox.base import read_species_from_yml, write_species_to_yml\n",
    "from toolbox.thermolib import find_thermo_libs, read_thermo_lib_by_path, \\\n",
    "                              merge_thermo_lib, draw_free_energies\n",
    "\n",
    "%matplotlib inline\n",
    "%load_ext autoreload\n",
    "%autoreload 2\n",
    "\n",
    "logger = logging.getLogger()\n",
    "logger.setLevel(logging.INFO)"
   ]
  },
  {
   "cell_type": "markdown",
   "metadata": {},
   "source": [
    "###  [OPTIONAL] Assign a log file to record all the changes"
   ]
  },
  {
   "cell_type": "code",
   "execution_count": null,
   "metadata": {},
   "outputs": [],
   "source": [
    "fh = logging.FileHandler('thermo_lib_tools.log', mode=\"a+\")\n",
    "fh.setLevel(logging.INFO)\n",
    "fh.setFormatter(logging.Formatter('%(asctime)s - %(levelname)s: %(message)s'))\n",
    "logger.addHandler(fh)"
   ]
  },
  {
   "cell_type": "markdown",
   "metadata": {},
   "source": [
    "### Load a RMG database instance\n",
    "You may need to add some RMG built-in libraries for your purpose. The generated `thermo_database` will be used in the later section."
   ]
  },
  {
   "cell_type": "code",
   "execution_count": null,
   "metadata": {},
   "outputs": [],
   "source": [
    "database = RMGDatabase()\n",
    "database.load(\n",
    "    path = settings['database.directory'],\n",
    "    thermo_libraries = [],  # Can add other library if necessary\n",
    "    kinetics_families = \"default\",\n",
    "    reaction_libraries = [],\n",
    "    kinetics_depositories = ['training'],\n",
    ")\n",
    "\n",
    "thermo_database = database.thermo"
   ]
  },
  {
   "cell_type": "markdown",
   "metadata": {},
   "source": [
    "### Input\n",
    "Check if the species to run are contained in other thermo libs\n",
    "- `work_dir` (str): indicate where your ARC jobs are located. Do not need to provide the full path to the file because the script will search for the thermolibrary.\n",
    "- `yml_file` (str): the full path to a file contains the species you want to check. It is originally designed for ARC input file\n",
    "- `disp` (bool): determine whether to display the molecule"
   ]
  },
  {
   "cell_type": "code",
   "execution_count": null,
   "metadata": {},
   "outputs": [],
   "source": [
    "work_dir = ''\n",
    "yml_file = ''\n",
    "disp = True"
   ]
  },
  {
   "cell_type": "code",
   "execution_count": null,
   "metadata": {
    "scrolled": false
   },
   "outputs": [],
   "source": [
    "# Read the species list from yml_file\n",
    "spc_list = read_species_from_yml(yml_file)\n",
    "\n",
    "# Get the thermo libraries under work_dir\n",
    "thermo_lib_list = find_thermo_libs(work_dir)\n",
    "for thermo_lib in thermo_lib_list:\n",
    "    read_thermo_lib_by_path(thermo_lib, thermo_database)\n",
    "\n",
    "# Find the species not contained in any of the library\n",
    "not_include = []\n",
    "for spc in spc_list:\n",
    "    thermo = thermo_database.get_all_thermo_data(spc)\n",
    "    if len(thermo) == 1:\n",
    "        # only GA value\n",
    "        not_include.append(spc)\n",
    "        if disp:\n",
    "            display(spc)\n",
    "\n",
    "# Write the species list containing unique species\n",
    "# to a new yaml file'new_+[OLD_NAME]' \n",
    "if new_yml_file:\n",
    "    write_species_to_yml(not_include, yml_file, mode='backup',)"
   ]
  }
 ],
 "metadata": {
  "@webio": {
   "lastCommId": null,
   "lastKernelId": null
  },
  "kernelspec": {
   "display_name": "Python 3",
   "language": "python",
   "name": "python3"
  },
  "language_info": {
   "codemirror_mode": {
    "name": "ipython",
    "version": 3
   },
   "file_extension": ".py",
   "mimetype": "text/x-python",
   "name": "python",
   "nbconvert_exporter": "python",
   "pygments_lexer": "ipython3",
   "version": "3.7.4"
  }
 },
 "nbformat": 4,
 "nbformat_minor": 2
}
