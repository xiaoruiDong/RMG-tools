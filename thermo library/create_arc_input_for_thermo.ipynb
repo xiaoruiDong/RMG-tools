{
 "cells": [
  {
   "cell_type": "markdown",
   "metadata": {},
   "source": [
    "# Create ARC species input for thermo\n",
    "This script creates an ARC species input given a yml or a species dictionary. It will check if a species is included in any thermo libraries, and exclude it in the generated input file.\n",
    "Noted, the generated input may lack of necssary settings, and you need to add them before submit it as an ARC job."
   ]
  },
  {
   "cell_type": "markdown",
   "metadata": {},
   "source": [
    "### Necessary dependencies"
   ]
  },
  {
   "cell_type": "code",
   "execution_count": 1,
   "metadata": {},
   "outputs": [
    {
     "name": "stderr",
     "output_type": "stream",
     "text": [
      "WARNING:root:No kyotocabinet available\n"
     ]
    }
   ],
   "source": [
    "import logging\n",
    "import os\n",
    "\n",
    "from rmgpy import settings\n",
    "from rmgpy.data.rmg import RMGDatabase\n",
    "\n",
    "from toolbox.species import read_spc_list_from_yml, write_spc_list_to_yml, \\\n",
    "                            read_spc_dict_from_path, spc_dict_to_spc_list\n",
    "from toolbox.thermolib import find_thermo_libs, read_thermo_lib_by_path, \\\n",
    "                              merge_thermo_lib, draw_free_energies\n",
    "\n",
    "%matplotlib inline\n",
    "%load_ext autoreload\n",
    "%autoreload 2\n",
    "\n",
    "logger = logging.getLogger()\n",
    "logger.setLevel(logging.INFO)"
   ]
  },
  {
   "cell_type": "markdown",
   "metadata": {},
   "source": [
    "###  [OPTIONAL] Assign a log file to record all the changes"
   ]
  },
  {
   "cell_type": "code",
   "execution_count": 2,
   "metadata": {},
   "outputs": [],
   "source": [
    "fh = logging.FileHandler('thermo_lib_tools.log', mode=\"a+\")\n",
    "fh.setLevel(logging.INFO)\n",
    "fh.setFormatter(logging.Formatter('%(asctime)s - %(levelname)s: %(message)s'))\n",
    "logger.addHandler(fh)"
   ]
  },
  {
   "cell_type": "markdown",
   "metadata": {},
   "source": [
    "### Load a RMG database instance\n",
    "You may need to add some RMG built-in libraries for your purpose. The generated `thermo_database` will be used in the later section."
   ]
  },
  {
   "cell_type": "code",
   "execution_count": 3,
   "metadata": {},
   "outputs": [
    {
     "name": "stderr",
     "output_type": "stream",
     "text": [
      "INFO:root:Loading thermodynamics group database from /Users/xiaorui/Apps/RMG-database/input/thermo/groups...\n",
      "INFO:root:Loading transport library from GRI-Mech.py in /Users/xiaorui/Apps/RMG-database/input/transport/libraries...\n",
      "INFO:root:Loading transport library from OneDMinN2.py in /Users/xiaorui/Apps/RMG-database/input/transport/libraries...\n",
      "INFO:root:Loading transport library from NOx2018.py in /Users/xiaorui/Apps/RMG-database/input/transport/libraries...\n",
      "INFO:root:Loading transport library from PrimaryTransportLibrary.py in /Users/xiaorui/Apps/RMG-database/input/transport/libraries...\n",
      "INFO:root:Loading transport group database from /Users/xiaorui/Apps/RMG-database/input/transport/groups...\n",
      "INFO:root:Loading frequencies group database from /Users/xiaorui/Apps/RMG-database/input/statmech/groups...\n",
      "INFO:root:Loading Platts additivity group database from /Users/xiaorui/Apps/RMG-database/input/solvation/groups...\n"
     ]
    }
   ],
   "source": [
    "database = RMGDatabase()\n",
    "database.load(\n",
    "    path = settings['database.directory'],\n",
    "    thermo_libraries = [],  # Can add other library if necessary\n",
    "    kinetics_families = \"default\",\n",
    "    reaction_libraries = [],\n",
    "    kinetics_depositories = ['training'],\n",
    ")\n",
    "\n",
    "thermo_database = database.thermo"
   ]
  },
  {
   "cell_type": "markdown",
   "metadata": {},
   "source": [
    "### [INPUT] Settings\n",
    "- `work_dir` (str): indicate where your ARC jobs are located. Do not need to provide the full path to the file because the script will search for the thermolibrary.\n",
    "- `source_file` (str): the full path to an ARC input file or species dictionary\n",
    "- `save_path` (str): the full path save to the new ARC input file\n",
    "- `disp` (bool): determine whether to display the molecule"
   ]
  },
  {
   "cell_type": "code",
   "execution_count": 4,
   "metadata": {},
   "outputs": [],
   "source": [
    "work_dir = '../media/thermo library/create_arc_input_for_thermo/'\n",
    "source_file = '../media/thermo library/create_arc_input_for_thermo/dictionary.txt'\n",
    "save_path = '../media/thermo library/create_arc_input_for_thermo/new_input.yml'\n",
    "disp = True"
   ]
  },
  {
   "cell_type": "code",
   "execution_count": 5,
   "metadata": {
    "scrolled": false
   },
   "outputs": [
    {
     "name": "stderr",
     "output_type": "stream",
     "text": [
      "INFO:root:Find thermo library at ../media/thermo library/create_arc_input_for_thermo/fake_arc_project/output/RMG libraries/thermo/BA.py\n",
      "INFO:root:Loading thermodynamics library BA.py from ../media/thermo library/create_arc_input_for_thermo/fake_arc_project/output/RMG libraries/thermo ...\n"
     ]
    },
    {
     "data": {
      "image/png": "[encoded data removed]",
      "text/plain": [
       "Species(label=\"CH3COO\", molecule=[Molecule(smiles=\"CC([O])=O\"), Molecule(smiles=\"CC([O])=O\")], molecular_weight=(59.044,'amu'))"
      ]
     },
     "metadata": {},
     "output_type": "display_data"
    },
    {
     "data": {
      "image/png": "[encoded data removed]",
      "text/plain": [
       "Species(label=\"CH3COOH\", molecule=[Molecule(smiles=\"CC(=O)O\")], molecular_weight=(60.052,'amu'))"
      ]
     },
     "metadata": {},
     "output_type": "display_data"
    },
    {
     "data": {
      "image/png": "[encoded data removed]",
      "text/plain": [
       "Species(label=\"EOM\", molecule=[Molecule(smiles=\"CCOC\")], molecular_weight=(60.095,'amu'))"
      ]
     },
     "metadata": {},
     "output_type": "display_data"
    },
    {
     "data": {
      "image/png": "[encoded data removed]",
      "text/plain": [
       "Species(label=\"BOM\", molecule=[Molecule(smiles=\"CCCCOC\")], molecular_weight=(88.1482,'amu'))"
      ]
     },
     "metadata": {},
     "output_type": "display_data"
    },
    {
     "data": {
      "image/png": "[encoded data removed]",
      "text/plain": [
       "Species(label=\"CH2COOH\", molecule=[Molecule(smiles=\"[CH2]C(=O)O\"), Molecule(smiles=\"C=C([O])O\")], molecular_weight=(59.044,'amu'))"
      ]
     },
     "metadata": {},
     "output_type": "display_data"
    },
    {
     "data": {
      "image/png": "[encoded data removed]",
      "text/plain": [
       "Species(label=\"O2\", molecule=[Molecule(smiles=\"[O][O]\")], molecular_weight=(31.9988,'amu'))"
      ]
     },
     "metadata": {},
     "output_type": "display_data"
    },
    {
     "data": {
      "image/png": "[encoded data removed]",
      "text/plain": [
       "Species(label=\"iC3H6CHO-2\", molecule=[Molecule(smiles=\"[CH2]C(C)C=O\")], molecular_weight=(71.0978,'amu'))"
      ]
     },
     "metadata": {},
     "output_type": "display_data"
    },
    {
     "data": {
      "image/png": "[encoded data removed]",
      "text/plain": [
       "Species(label=\"iBOM\", molecule=[Molecule(smiles=\"COCC(C)C\")], molecular_weight=(88.1482,'amu'))"
      ]
     },
     "metadata": {},
     "output_type": "display_data"
    },
    {
     "data": {
      "image/png": "[encoded data removed]",
      "text/plain": [
       "Species(label=\"iC3H6CHO-1\", molecule=[Molecule(smiles=\"CC(C)=C[O]\"), Molecule(smiles=\"C[C](C)C=O\")], molecular_weight=(71.0978,'amu'))"
      ]
     },
     "metadata": {},
     "output_type": "display_data"
    },
    {
     "data": {
      "image/png": "[encoded data removed]",
      "text/plain": [
       "Species(label=\"CH3\", molecule=[Molecule(smiles=\"[CH3]\")], molecular_weight=(15.0345,'amu'))"
      ]
     },
     "metadata": {},
     "output_type": "display_data"
    },
    {
     "data": {
      "image/png": "[encoded data removed]",
      "text/plain": [
       "Species(label=\"CH4\", molecule=[Molecule(smiles=\"C\")], molecular_weight=(16.0425,'amu'))"
      ]
     },
     "metadata": {},
     "output_type": "display_data"
    },
    {
     "data": {
      "image/png": "[encoded data removed]",
      "text/plain": [
       "Species(label=\"M-1OM\", molecule=[Molecule(smiles=\"[CH2]OC\")], molecular_weight=(45.0605,'amu'))"
      ]
     },
     "metadata": {},
     "output_type": "display_data"
    },
    {
     "data": {
      "image/png": "[encoded data removed]",
      "text/plain": [
       "Species(label=\"C2H5COO\", molecule=[Molecule(smiles=\"CCC([O])=O\"), Molecule(smiles=\"CCC([O])=O\")], molecular_weight=(73.0706,'amu'))"
      ]
     },
     "metadata": {},
     "output_type": "display_data"
    },
    {
     "data": {
      "image/png": "[encoded data removed]",
      "text/plain": [
       "Species(label=\"nC4H9OH\", molecule=[Molecule(smiles=\"CCCCO\")], molecular_weight=(74.1216,'amu'))"
      ]
     },
     "metadata": {},
     "output_type": "display_data"
    },
    {
     "data": {
      "image/png": "[encoded data removed]",
      "text/plain": [
       "Species(label=\"H\", molecule=[Molecule(smiles=\"[H]\")], molecular_weight=(1.00794,'amu'))"
      ]
     },
     "metadata": {},
     "output_type": "display_data"
    },
    {
     "data": {
      "image/png": "[encoded data removed]",
      "text/plain": [
       "Species(label=\"HCOO\", molecule=[Molecule(smiles=\"[O]C=O\"), Molecule(smiles=\"[O]C=O\")], molecular_weight=(45.0174,'amu'))"
      ]
     },
     "metadata": {},
     "output_type": "display_data"
    },
    {
     "data": {
      "image/png": "[encoded data removed]",
      "text/plain": [
       "Species(label=\"iC3H7COO\", molecule=[Molecule(smiles=\"CC(C)C([O])=O\"), Molecule(smiles=\"CC(C)C([O])=O\")], molecular_weight=(87.0972,'amu'))"
      ]
     },
     "metadata": {},
     "output_type": "display_data"
    },
    {
     "data": {
      "image/png": "[encoded data removed]",
      "text/plain": [
       "Species(label=\"iPOM\", molecule=[Molecule(smiles=\"COC(C)C\")], molecular_weight=(74.1216,'amu'))"
      ]
     },
     "metadata": {},
     "output_type": "display_data"
    },
    {
     "data": {
      "image/png": "[encoded data removed]",
      "text/plain": [
       "Species(label=\"OH\", molecule=[Molecule(smiles=\"[OH]\")], molecular_weight=(17.0073,'amu'))"
      ]
     },
     "metadata": {},
     "output_type": "display_data"
    },
    {
     "data": {
      "image/png": "[encoded data removed]",
      "text/plain": [
       "Species(label=\"EOM-1\", molecule=[Molecule(smiles=\"[CH2]OCC\")], molecular_weight=(59.0871,'amu'))"
      ]
     },
     "metadata": {},
     "output_type": "display_data"
    },
    {
     "data": {
      "image/png": "[encoded data removed]",
      "text/plain": [
       "Species(label=\"MPent-2\", molecule=[Molecule(smiles=\"CC[CH]CC(=O)OC\")], molecular_weight=(115.15,'amu'))"
      ]
     },
     "metadata": {},
     "output_type": "display_data"
    },
    {
     "data": {
      "image/png": "[encoded data removed]",
      "text/plain": [
       "Species(label=\"iB-1OM\", molecule=[Molecule(smiles=\"CO[CH]C(C)C\")], molecular_weight=(87.1402,'amu'))"
      ]
     },
     "metadata": {},
     "output_type": "display_data"
    },
    {
     "data": {
      "image/png": "[encoded data removed]",
      "text/plain": [
       "Species(label=\"HCOOH\", molecule=[Molecule(smiles=\"O=CO\")], molecular_weight=(46.0254,'amu'))"
      ]
     },
     "metadata": {},
     "output_type": "display_data"
    },
    {
     "data": {
      "image/png": "[encoded data removed]",
      "text/plain": [
       "Species(label=\"MPent-1\", molecule=[Molecule(smiles=\"CCC[CH]C(=O)OC\"), Molecule(smiles=\"CCCC=C([O])OC\")], molecular_weight=(115.15,'amu'))"
      ]
     },
     "metadata": {},
     "output_type": "display_data"
    },
    {
     "data": {
      "image/png": "[encoded data removed]",
      "text/plain": [
       "Species(label=\"MPent-4\", molecule=[Molecule(smiles=\"[CH2]CCCC(=O)OC\")], molecular_weight=(115.15,'amu'))"
      ]
     },
     "metadata": {},
     "output_type": "display_data"
    },
    {
     "data": {
      "image/png": "[encoded data removed]",
      "text/plain": [
       "Species(label=\"MPent\", molecule=[Molecule(smiles=\"CCCCC(=O)OC\")], molecular_weight=(116.158,'amu'))"
      ]
     },
     "metadata": {},
     "output_type": "display_data"
    },
    {
     "data": {
      "image/png": "[encoded data removed]",
      "text/plain": [
       "Species(label=\"HCHO\", molecule=[Molecule(smiles=\"C=O\")], molecular_weight=(30.026,'amu'))"
      ]
     },
     "metadata": {},
     "output_type": "display_data"
    },
    {
     "data": {
      "image/png": "[encoded data removed]",
      "text/plain": [
       "Species(label=\"iC4H9OH\", molecule=[Molecule(smiles=\"CC(C)CO\")], molecular_weight=(74.1216,'amu'))"
      ]
     },
     "metadata": {},
     "output_type": "display_data"
    },
    {
     "data": {
      "image/png": "[encoded data removed]",
      "text/plain": [
       "Species(label=\"P-2OM\", molecule=[Molecule(smiles=\"C[CH]COC\")], molecular_weight=(73.1137,'amu'))"
      ]
     },
     "metadata": {},
     "output_type": "display_data"
    },
    {
     "data": {
      "image/png": "[encoded data removed]",
      "text/plain": [
       "Species(label=\"iP-1OM\", molecule=[Molecule(smiles=\"CO[C](C)C\")], molecular_weight=(73.1137,'amu'))"
      ]
     },
     "metadata": {},
     "output_type": "display_data"
    },
    {
     "data": {
      "image/png": "[encoded data removed]",
      "text/plain": [
       "Species(label=\"CH2OH\", molecule=[Molecule(smiles=\"[CH2]O\")], molecular_weight=(31.0339,'amu'))"
      ]
     },
     "metadata": {},
     "output_type": "display_data"
    },
    {
     "data": {
      "image/png": "[encoded data removed]",
      "text/plain": [
       "Species(label=\"iP-2OM\", molecule=[Molecule(smiles=\"[CH2]C(C)OC\")], molecular_weight=(73.1137,'amu'))"
      ]
     },
     "metadata": {},
     "output_type": "display_data"
    },
    {
     "data": {
      "image/png": "[encoded data removed]",
      "text/plain": [
       "Species(label=\"M-1B\", molecule=[Molecule(smiles=\"[CH2]OC(=O)CCC\")], molecular_weight=(101.124,'amu'))"
      ]
     },
     "metadata": {},
     "output_type": "display_data"
    },
    {
     "data": {
      "image/png": "[encoded data removed]",
      "text/plain": [
       "Species(label=\"M-1E\", molecule=[Molecule(smiles=\"[CH2]OC(C)=O\")], molecular_weight=(73.0706,'amu'))"
      ]
     },
     "metadata": {},
     "output_type": "display_data"
    },
    {
     "data": {
      "image/png": "[encoded data removed]",
      "text/plain": [
       "Species(label=\"H2O2\", molecule=[Molecule(smiles=\"OO\")], molecular_weight=(34.0147,'amu'))"
      ]
     },
     "metadata": {},
     "output_type": "display_data"
    },
    {
     "data": {
      "image/png": "[encoded data removed]",
      "text/plain": [
       "Species(label=\"MPent-3\", molecule=[Molecule(smiles=\"C[CH]CCC(=O)OC\")], molecular_weight=(115.15,'amu'))"
      ]
     },
     "metadata": {},
     "output_type": "display_data"
    },
    {
     "data": {
      "image/png": "[encoded data removed]",
      "text/plain": [
       "Species(label=\"M-1P\", molecule=[Molecule(smiles=\"[CH2]OC(=O)CC\")], molecular_weight=(87.0972,'amu'))"
      ]
     },
     "metadata": {},
     "output_type": "display_data"
    },
    {
     "data": {
      "image/png": "[encoded data removed]",
      "text/plain": [
       "Species(label=\"M-1Pent\", molecule=[Molecule(smiles=\"[CH2]OC(=O)CCCC\")], molecular_weight=(115.15,'amu'))"
      ]
     },
     "metadata": {},
     "output_type": "display_data"
    },
    {
     "data": {
      "image/png": "[encoded data removed]",
      "text/plain": [
       "Species(label=\"PE\", molecule=[Molecule(smiles=\"CCCOC(C)=O\")], molecular_weight=(102.132,'amu'))"
      ]
     },
     "metadata": {},
     "output_type": "display_data"
    },
    {
     "data": {
      "image/png": "[encoded data removed]",
      "text/plain": [
       "Species(label=\"E-1E\", molecule=[Molecule(smiles=\"C[CH]OC(C)=O\")], molecular_weight=(87.0972,'amu'))"
      ]
     },
     "metadata": {},
     "output_type": "display_data"
    },
    {
     "data": {
      "image/png": "[encoded data removed]",
      "text/plain": [
       "Species(label=\"iPOM-1\", molecule=[Molecule(smiles=\"[CH2]OC(C)C\")], molecular_weight=(73.1137,'amu'))"
      ]
     },
     "metadata": {},
     "output_type": "display_data"
    },
    {
     "data": {
      "image/png": "[encoded data removed]",
      "text/plain": [
       "Species(label=\"POM-1\", molecule=[Molecule(smiles=\"[CH2]OCCC\")], molecular_weight=(73.1137,'amu'))"
      ]
     },
     "metadata": {},
     "output_type": "display_data"
    },
    {
     "data": {
      "image/png": "[encoded data removed]",
      "text/plain": [
       "Species(label=\"EE\", molecule=[Molecule(smiles=\"CCOC(C)=O\")], molecular_weight=(88.1051,'amu'))"
      ]
     },
     "metadata": {},
     "output_type": "display_data"
    },
    {
     "data": {
      "image/png": "[encoded data removed]",
      "text/plain": [
       "Species(label=\"P-3OM\", molecule=[Molecule(smiles=\"[CH2]CCOC\")], molecular_weight=(73.1137,'amu'))"
      ]
     },
     "metadata": {},
     "output_type": "display_data"
    },
    {
     "data": {
      "image/png": "[encoded data removed]",
      "text/plain": [
       "Species(label=\"O\", molecule=[Molecule(smiles=\"[O]\")], molecular_weight=(15.9994,'amu'))"
      ]
     },
     "metadata": {},
     "output_type": "display_data"
    },
    {
     "data": {
      "image/png": "[encoded data removed]",
      "text/plain": [
       "Species(label=\"CH3CHO\", molecule=[Molecule(smiles=\"CC=O\")], molecular_weight=(44.0526,'amu'))"
      ]
     },
     "metadata": {},
     "output_type": "display_data"
    },
    {
     "data": {
      "image/png": "[encoded data removed]",
      "text/plain": [
       "Species(label=\"COOH\", molecule=[Molecule(smiles=\"O=[C]O\")], molecular_weight=(45.0174,'amu'))"
      ]
     },
     "metadata": {},
     "output_type": "display_data"
    },
    {
     "data": {
      "image/png": "[encoded data removed]",
      "text/plain": [
       "Species(label=\"HCO\", molecule=[Molecule(smiles=\"[CH]=O\")], molecular_weight=(29.018,'amu'))"
      ]
     },
     "metadata": {},
     "output_type": "display_data"
    },
    {
     "data": {
      "image/png": "[encoded data removed]",
      "text/plain": [
       "Species(label=\"E-1OM\", molecule=[Molecule(smiles=\"C[CH]OC\")], molecular_weight=(59.0871,'amu'))"
      ]
     },
     "metadata": {},
     "output_type": "display_data"
    },
    {
     "data": {
      "image/png": "[encoded data removed]",
      "text/plain": [
       "Species(label=\"ME\", molecule=[Molecule(smiles=\"COC(C)=O\")], molecular_weight=(74.0785,'amu'))"
      ]
     },
     "metadata": {},
     "output_type": "display_data"
    },
    {
     "data": {
      "image/png": "[encoded data removed]",
      "text/plain": [
       "Species(label=\"M-1iB\", molecule=[Molecule(smiles=\"[CH2]OC(=O)C(C)C\")], molecular_weight=(101.124,'amu'))"
      ]
     },
     "metadata": {},
     "output_type": "display_data"
    },
    {
     "data": {
      "image/png": "[encoded data removed]",
      "text/plain": [
       "Species(label=\"MB\", molecule=[Molecule(smiles=\"CCCC(=O)OC\")], molecular_weight=(102.132,'amu'))"
      ]
     },
     "metadata": {},
     "output_type": "display_data"
    },
    {
     "data": {
      "image/png": "[encoded data removed]",
      "text/plain": [
       "Species(label=\"H2\", molecule=[Molecule(smiles=\"[H][H]\")], molecular_weight=(2.01588,'amu'))"
      ]
     },
     "metadata": {},
     "output_type": "display_data"
    },
    {
     "data": {
      "image/png": "[encoded data removed]",
      "text/plain": [
       "Species(label=\"nC4H9O\", molecule=[Molecule(smiles=\"CCCC[O]\")], molecular_weight=(73.1137,'amu'))"
      ]
     },
     "metadata": {},
     "output_type": "display_data"
    },
    {
     "data": {
      "image/png": "[encoded data removed]",
      "text/plain": [
       "Species(label=\"CH3CHCHO\", molecule=[Molecule(smiles=\"CC=C[O]\"), Molecule(smiles=\"C[CH]C=O\")], molecular_weight=(57.0712,'amu'))"
      ]
     },
     "metadata": {},
     "output_type": "display_data"
    },
    {
     "data": {
      "image/png": "[encoded data removed]",
      "text/plain": [
       "Species(label=\"MP\", molecule=[Molecule(smiles=\"CCC(=O)OC\")], molecular_weight=(88.1051,'amu'))"
      ]
     },
     "metadata": {},
     "output_type": "display_data"
    },
    {
     "data": {
      "image/png": "[encoded data removed]",
      "text/plain": [
       "Species(label=\"MOM\", molecule=[Molecule(smiles=\"COC\")], molecular_weight=(46.0684,'amu'))"
      ]
     },
     "metadata": {},
     "output_type": "display_data"
    },
    {
     "data": {
      "image/png": "[encoded data removed]",
      "text/plain": [
       "Species(label=\"4-BOM\", molecule=[Molecule(smiles=\"[CH2]CCCOC\")], molecular_weight=(87.1402,'amu'))"
      ]
     },
     "metadata": {},
     "output_type": "display_data"
    },
    {
     "data": {
      "image/png": "[encoded data removed]",
      "text/plain": [
       "Species(label=\"iC3H7CHO\", molecule=[Molecule(smiles=\"CC(C)C=O\")], molecular_weight=(72.1057,'amu'))"
      ]
     },
     "metadata": {},
     "output_type": "display_data"
    },
    {
     "data": {
      "image/png": "[encoded data removed]",
      "text/plain": [
       "Species(label=\"C2H5CO\", molecule=[Molecule(smiles=\"CC[C]=O\")], molecular_weight=(57.0712,'amu'))"
      ]
     },
     "metadata": {},
     "output_type": "display_data"
    },
    {
     "data": {
      "image/png": "[encoded data removed]",
      "text/plain": [
       "Species(label=\"iP-2E\", molecule=[Molecule(smiles=\"[CH2]C(C)OC(C)=O\")], molecular_weight=(101.124,'amu'))"
      ]
     },
     "metadata": {},
     "output_type": "display_data"
    },
    {
     "data": {
      "image/png": "[encoded data removed]",
      "text/plain": [
       "Species(label=\"iC3H7COOH\", molecule=[Molecule(smiles=\"CC(C)C(=O)O\")], molecular_weight=(88.1051,'amu'))"
      ]
     },
     "metadata": {},
     "output_type": "display_data"
    },
    {
     "data": {
      "image/png": "[encoded data removed]",
      "text/plain": [
       "Species(label=\"iPE-1\", molecule=[Molecule(smiles=\"[CH2]C(=O)OC(C)C\"), Molecule(smiles=\"C=C([O])OC(C)C\")], molecular_weight=(101.124,'amu'))"
      ]
     },
     "metadata": {},
     "output_type": "display_data"
    },
    {
     "data": {
      "image/png": "[encoded data removed]",
      "text/plain": [
       "Species(label=\"iBOM-1\", molecule=[Molecule(smiles=\"[CH2]OCC(C)C\")], molecular_weight=(87.1402,'amu'))"
      ]
     },
     "metadata": {},
     "output_type": "display_data"
    },
    {
     "data": {
      "image/png": "[encoded data removed]",
      "text/plain": [
       "Species(label=\"CH3O\", molecule=[Molecule(smiles=\"C[O]\")], molecular_weight=(31.0339,'amu'))"
      ]
     },
     "metadata": {},
     "output_type": "display_data"
    },
    {
     "data": {
      "image/png": "[encoded data removed]",
      "text/plain": [
       "Species(label=\"iC3H7CO\", molecule=[Molecule(smiles=\"CC(C)[C]=O\")], molecular_weight=(71.0978,'amu'))"
      ]
     },
     "metadata": {},
     "output_type": "display_data"
    },
    {
     "data": {
      "image/png": "[encoded data removed]",
      "text/plain": [
       "Species(label=\"E-2E\", molecule=[Molecule(smiles=\"[CH2]COC(C)=O\")], molecular_weight=(87.0972,'amu'))"
      ]
     },
     "metadata": {},
     "output_type": "display_data"
    },
    {
     "data": {
      "image/png": "[encoded data removed]",
      "text/plain": [
       "Species(label=\"B-3OM\", molecule=[Molecule(smiles=\"C[CH]CCOC\")], molecular_weight=(87.1402,'amu'))"
      ]
     },
     "metadata": {},
     "output_type": "display_data"
    },
    {
     "data": {
      "image/png": "[encoded data removed]",
      "text/plain": [
       "Species(label=\"P-1E\", molecule=[Molecule(smiles=\"CC[CH]OC(C)=O\")], molecular_weight=(101.124,'amu'))"
      ]
     },
     "metadata": {},
     "output_type": "display_data"
    },
    {
     "data": {
      "image/png": "[encoded data removed]",
      "text/plain": [
       "Species(label=\"iC3H6COOH-2\", molecule=[Molecule(smiles=\"[CH2]C(C)C(=O)O\")], molecular_weight=(87.0972,'amu'))"
      ]
     },
     "metadata": {},
     "output_type": "display_data"
    },
    {
     "data": {
      "image/png": "[encoded data removed]",
      "text/plain": [
       "Species(label=\"nC4H8OH1-4\", molecule=[Molecule(smiles=\"[CH2]CCCO\")], molecular_weight=(73.1137,'amu'))"
      ]
     },
     "metadata": {},
     "output_type": "display_data"
    },
    {
     "data": {
      "image/png": "[encoded data removed]",
      "text/plain": [
       "Species(label=\"iC3H6COOH-1\", molecule=[Molecule(smiles=\"C[C](C)C(=O)O\"), Molecule(smiles=\"CC(C)=C([O])O\")], molecular_weight=(87.0972,'amu'))"
      ]
     },
     "metadata": {},
     "output_type": "display_data"
    },
    {
     "data": {
      "image/png": "[encoded data removed]",
      "text/plain": [
       "Species(label=\"nC4H8OH1-2\", molecule=[Molecule(smiles=\"CC[CH]CO\")], molecular_weight=(73.1137,'amu'))"
      ]
     },
     "metadata": {},
     "output_type": "display_data"
    },
    {
     "data": {
      "image/png": "[encoded data removed]",
      "text/plain": [
       "Species(label=\"nC4H8OH1-3\", molecule=[Molecule(smiles=\"C[CH]CCO\")], molecular_weight=(73.1137,'amu'))"
      ]
     },
     "metadata": {},
     "output_type": "display_data"
    },
    {
     "data": {
      "image/png": "[encoded data removed]",
      "text/plain": [
       "Species(label=\"nC4H8OH1-1\", molecule=[Molecule(smiles=\"CCC[CH]O\")], molecular_weight=(73.1137,'amu'))"
      ]
     },
     "metadata": {},
     "output_type": "display_data"
    },
    {
     "data": {
      "image/png": "[encoded data removed]",
      "text/plain": [
       "Species(label=\"CH2CH2CHO\", molecule=[Molecule(smiles=\"[CH2]CC=O\")], molecular_weight=(57.0712,'amu'))"
      ]
     },
     "metadata": {},
     "output_type": "display_data"
    },
    {
     "data": {
      "image/png": "[encoded data removed]",
      "text/plain": [
       "Species(label=\"PE-1\", molecule=[Molecule(smiles=\"[CH2]C(=O)OCCC\"), Molecule(smiles=\"C=C([O])OCCC\")], molecular_weight=(101.124,'amu'))"
      ]
     },
     "metadata": {},
     "output_type": "display_data"
    },
    {
     "data": {
      "image/png": "[encoded data removed]",
      "text/plain": [
       "Species(label=\"CO2\", molecule=[Molecule(smiles=\"O=C=O\")], molecular_weight=(44.0095,'amu'))"
      ]
     },
     "metadata": {},
     "output_type": "display_data"
    },
    {
     "data": {
      "image/png": "[encoded data removed]",
      "text/plain": [
       "Species(label=\"E-2OM\", molecule=[Molecule(smiles=\"[CH2]COC\")], molecular_weight=(59.0871,'amu'))"
      ]
     },
     "metadata": {},
     "output_type": "display_data"
    },
    {
     "data": {
      "image/png": "[encoded data removed]",
      "text/plain": [
       "Species(label=\"H2O\", molecule=[Molecule(smiles=\"O\")], molecular_weight=(18.0153,'amu'))"
      ]
     },
     "metadata": {},
     "output_type": "display_data"
    },
    {
     "data": {
      "image/png": "[encoded data removed]",
      "text/plain": [
       "Species(label=\"CH3CO\", molecule=[Molecule(smiles=\"C[C]=O\")], molecular_weight=(43.0446,'amu'))"
      ]
     },
     "metadata": {},
     "output_type": "display_data"
    },
    {
     "data": {
      "image/png": "[encoded data removed]",
      "text/plain": [
       "Species(label=\"iC3H6\", molecule=[Molecule(smiles=\"C=C(C)C\")], molecular_weight=(56.1063,'amu'))"
      ]
     },
     "metadata": {},
     "output_type": "display_data"
    },
    {
     "data": {
      "image/png": "[encoded data removed]",
      "text/plain": [
       "Species(label=\"iC3H7\", molecule=[Molecule(smiles=\"C[CH]C\")], molecular_weight=(43.0877,'amu'))"
      ]
     },
     "metadata": {},
     "output_type": "display_data"
    },
    {
     "data": {
      "image/png": "[encoded data removed]",
      "text/plain": [
       "Species(label=\"C2H5CHO\", molecule=[Molecule(smiles=\"CCC=O\")], molecular_weight=(58.0791,'amu'))"
      ]
     },
     "metadata": {},
     "output_type": "display_data"
    },
    {
     "data": {
      "image/png": "[encoded data removed]",
      "text/plain": [
       "Species(label=\"iPE\", molecule=[Molecule(smiles=\"CC(=O)OC(C)C\")], molecular_weight=(102.132,'amu'))"
      ]
     },
     "metadata": {},
     "output_type": "display_data"
    },
    {
     "data": {
      "image/png": "[encoded data removed]",
      "text/plain": [
       "Species(label=\"MiB-2\", molecule=[Molecule(smiles=\"[CH2]C(C)C(=O)OC\")], molecular_weight=(101.124,'amu'))"
      ]
     },
     "metadata": {},
     "output_type": "display_data"
    },
    {
     "data": {
      "image/png": "[encoded data removed]",
      "text/plain": [
       "Species(label=\"B-2OM\", molecule=[Molecule(smiles=\"CC[CH]COC\")], molecular_weight=(87.1402,'amu'))"
      ]
     },
     "metadata": {},
     "output_type": "display_data"
    },
    {
     "data": {
      "image/png": "[encoded data removed]",
      "text/plain": [
       "Species(label=\"MiB-1\", molecule=[Molecule(smiles=\"COC(=O)[C](C)C\"), Molecule(smiles=\"COC([O])=C(C)C\")], molecular_weight=(101.124,'amu'))"
      ]
     },
     "metadata": {},
     "output_type": "display_data"
    },
    {
     "data": {
      "image/png": "[encoded data removed]",
      "text/plain": [
       "Species(label=\"CH3OCO\", molecule=[Molecule(smiles=\"CO[C]=O\")], molecular_weight=(59.044,'amu'))"
      ]
     },
     "metadata": {},
     "output_type": "display_data"
    },
    {
     "data": {
      "image/png": "[encoded data removed]",
      "text/plain": [
       "Species(label=\"C2H4COOH-1\", molecule=[Molecule(smiles=\"C[CH]C(=O)O\"), Molecule(smiles=\"CC=C([O])O\")], molecular_weight=(73.0706,'amu'))"
      ]
     },
     "metadata": {},
     "output_type": "display_data"
    },
    {
     "data": {
      "image/png": "[encoded data removed]",
      "text/plain": [
       "Species(label=\"C2H4COOH-2\", molecule=[Molecule(smiles=\"[CH2]CC(=O)O\")], molecular_weight=(73.0706,'amu'))"
      ]
     },
     "metadata": {},
     "output_type": "display_data"
    },
    {
     "data": {
      "image/png": "[encoded data removed]",
      "text/plain": [
       "Species(label=\"CO\", molecule=[Molecule(smiles=\"[C-]#[O+]\")], molecular_weight=(28.0101,'amu'))"
      ]
     },
     "metadata": {},
     "output_type": "display_data"
    },
    {
     "data": {
      "image/png": "[encoded data removed]",
      "text/plain": [
       "Species(label=\"P-1OM\", molecule=[Molecule(smiles=\"CC[CH]OC\")], molecular_weight=(73.1137,'amu'))"
      ]
     },
     "metadata": {},
     "output_type": "display_data"
    },
    {
     "data": {
      "image/png": "[encoded data removed]",
      "text/plain": [
       "Species(label=\"CH2CHO\", molecule=[Molecule(smiles=\"C=C[O]\"), Molecule(smiles=\"[CH2]C=O\")], molecular_weight=(43.0446,'amu'))"
      ]
     },
     "metadata": {},
     "output_type": "display_data"
    },
    {
     "data": {
      "image/png": "[encoded data removed]",
      "text/plain": [
       "Species(label=\"MiB\", molecule=[Molecule(smiles=\"COC(=O)C(C)C\")], molecular_weight=(102.132,'amu'))"
      ]
     },
     "metadata": {},
     "output_type": "display_data"
    },
    {
     "data": {
      "image/png": "[encoded data removed]",
      "text/plain": [
       "Species(label=\"EE-1\", molecule=[Molecule(smiles=\"[CH2]C(=O)OCC\"), Molecule(smiles=\"C=C([O])OCC\")], molecular_weight=(87.0972,'amu'))"
      ]
     },
     "metadata": {},
     "output_type": "display_data"
    },
    {
     "data": {
      "image/png": "[encoded data removed]",
      "text/plain": [
       "Species(label=\"MP-1\", molecule=[Molecule(smiles=\"C[CH]C(=O)OC\"), Molecule(smiles=\"CC=C([O])OC\")], molecular_weight=(87.0972,'amu'))"
      ]
     },
     "metadata": {},
     "output_type": "display_data"
    },
    {
     "data": {
      "image/png": "[encoded data removed]",
      "text/plain": [
       "Species(label=\"MP-2\", molecule=[Molecule(smiles=\"[CH2]CC(=O)OC\")], molecular_weight=(87.0972,'amu'))"
      ]
     },
     "metadata": {},
     "output_type": "display_data"
    },
    {
     "data": {
      "image/png": "[encoded data removed]",
      "text/plain": [
       "Species(label=\"POM\", molecule=[Molecule(smiles=\"CCCOC\")], molecular_weight=(74.1216,'amu'))"
      ]
     },
     "metadata": {},
     "output_type": "display_data"
    },
    {
     "data": {
      "image/png": "[encoded data removed]",
      "text/plain": [
       "Species(label=\"HO2\", molecule=[Molecule(smiles=\"[O]O\")], molecular_weight=(33.0067,'amu'))"
      ]
     },
     "metadata": {},
     "output_type": "display_data"
    },
    {
     "data": {
      "image/png": "[encoded data removed]",
      "text/plain": [
       "Species(label=\"BOM-1\", molecule=[Molecule(smiles=\"[CH2]OCCCC\")], molecular_weight=(87.1402,'amu'))"
      ]
     },
     "metadata": {},
     "output_type": "display_data"
    },
    {
     "data": {
      "image/png": "[encoded data removed]",
      "text/plain": [
       "Species(label=\"B-1OM\", molecule=[Molecule(smiles=\"CCC[CH]OC\")], molecular_weight=(87.1402,'amu'))"
      ]
     },
     "metadata": {},
     "output_type": "display_data"
    },
    {
     "data": {
      "image/png": "[encoded data removed]",
      "text/plain": [
       "Species(label=\"iB-3OM\", molecule=[Molecule(smiles=\"[CH2]C(C)COC\")], molecular_weight=(87.1402,'amu'))"
      ]
     },
     "metadata": {},
     "output_type": "display_data"
    },
    {
     "data": {
      "image/png": "[encoded data removed]",
      "text/plain": [
       "Species(label=\"C2H5COOH\", molecule=[Molecule(smiles=\"CCC(=O)O\")], molecular_weight=(74.0785,'amu'))"
      ]
     },
     "metadata": {},
     "output_type": "display_data"
    },
    {
     "data": {
      "image/png": "[encoded data removed]",
      "text/plain": [
       "Species(label=\"ME-1\", molecule=[Molecule(smiles=\"[CH2]C(=O)OC\"), Molecule(smiles=\"C=C([O])OC\")], molecular_weight=(73.0706,'amu'))"
      ]
     },
     "metadata": {},
     "output_type": "display_data"
    },
    {
     "data": {
      "image/png": "[encoded data removed]",
      "text/plain": [
       "Species(label=\"P-2E\", molecule=[Molecule(smiles=\"C[CH]COC(C)=O\")], molecular_weight=(101.124,'amu'))"
      ]
     },
     "metadata": {},
     "output_type": "display_data"
    },
    {
     "data": {
      "image/png": "[encoded data removed]",
      "text/plain": [
       "Species(label=\"P-3E\", molecule=[Molecule(smiles=\"[CH2]CCOC(C)=O\")], molecular_weight=(101.124,'amu'))"
      ]
     },
     "metadata": {},
     "output_type": "display_data"
    },
    {
     "data": {
      "image/png": "[encoded data removed]",
      "text/plain": [
       "Species(label=\"MB-2\", molecule=[Molecule(smiles=\"C[CH]CC(=O)OC\")], molecular_weight=(101.124,'amu'))"
      ]
     },
     "metadata": {},
     "output_type": "display_data"
    },
    {
     "data": {
      "image/png": "[encoded data removed]",
      "text/plain": [
       "Species(label=\"MB-3\", molecule=[Molecule(smiles=\"[CH2]CCC(=O)OC\")], molecular_weight=(101.124,'amu'))"
      ]
     },
     "metadata": {},
     "output_type": "display_data"
    },
    {
     "data": {
      "image/png": "[encoded data removed]",
      "text/plain": [
       "Species(label=\"MB-1\", molecule=[Molecule(smiles=\"CC[CH]C(=O)OC\"), Molecule(smiles=\"CCC=C([O])OC\")], molecular_weight=(101.124,'amu'))"
      ]
     },
     "metadata": {},
     "output_type": "display_data"
    },
    {
     "data": {
      "image/png": "[encoded data removed]",
      "text/plain": [
       "Species(label=\"iB-2OM\", molecule=[Molecule(smiles=\"COC[C](C)C\")], molecular_weight=(87.1402,'amu'))"
      ]
     },
     "metadata": {},
     "output_type": "display_data"
    },
    {
     "data": {
      "image/png": "[encoded data removed]",
      "text/plain": [
       "Species(label=\"CH2CO\", molecule=[Molecule(smiles=\"C=C=O\")], molecular_weight=(42.0367,'amu'))"
      ]
     },
     "metadata": {},
     "output_type": "display_data"
    },
    {
     "data": {
      "image/png": "[encoded data removed]",
      "text/plain": [
       "Species(label=\"iP-1E\", molecule=[Molecule(smiles=\"C[C](C)OC(C)=O\")], molecular_weight=(101.124,'amu'))"
      ]
     },
     "metadata": {},
     "output_type": "display_data"
    },
    {
     "name": "stderr",
     "output_type": "stream",
     "text": [
      "INFO:root:Writing the species CH3COO into the yaml file\n",
      "INFO:root:Writing the species CH3COOH into the yaml file\n",
      "INFO:root:Writing the species EOM into the yaml file\n",
      "INFO:root:Writing the species BOM into the yaml file\n",
      "INFO:root:Writing the species CH2COOH into the yaml file\n",
      "INFO:root:Writing the species O2 into the yaml file\n",
      "INFO:root:Writing the species iC3H6CHO-2 into the yaml file\n",
      "INFO:root:Writing the species iBOM into the yaml file\n",
      "INFO:root:Writing the species iC3H6CHO-1 into the yaml file\n",
      "INFO:root:Writing the species CH3 into the yaml file\n",
      "INFO:root:Writing the species CH4 into the yaml file\n",
      "INFO:root:Writing the species M-1OM into the yaml file\n",
      "INFO:root:Writing the species C2H5COO into the yaml file\n",
      "INFO:root:Writing the species nC4H9OH into the yaml file\n",
      "INFO:root:Writing the species H into the yaml file\n",
      "INFO:root:Writing the species HCOO into the yaml file\n",
      "INFO:root:Writing the species iC3H7COO into the yaml file\n",
      "INFO:root:Writing the species iPOM into the yaml file\n",
      "INFO:root:Writing the species OH into the yaml file\n",
      "INFO:root:Writing the species EOM-1 into the yaml file\n",
      "INFO:root:Writing the species MPent-2 into the yaml file\n",
      "INFO:root:Writing the species iB-1OM into the yaml file\n",
      "INFO:root:Writing the species HCOOH into the yaml file\n",
      "INFO:root:Writing the species MPent-1 into the yaml file\n",
      "INFO:root:Writing the species MPent-4 into the yaml file\n",
      "INFO:root:Writing the species MPent into the yaml file\n",
      "INFO:root:Writing the species HCHO into the yaml file\n",
      "INFO:root:Writing the species iC4H9OH into the yaml file\n",
      "INFO:root:Writing the species P-2OM into the yaml file\n",
      "INFO:root:Writing the species iP-1OM into the yaml file\n",
      "INFO:root:Writing the species CH2OH into the yaml file\n",
      "INFO:root:Writing the species iP-2OM into the yaml file\n",
      "INFO:root:Writing the species M-1B into the yaml file\n",
      "INFO:root:Writing the species M-1E into the yaml file\n",
      "INFO:root:Writing the species H2O2 into the yaml file\n",
      "INFO:root:Writing the species MPent-3 into the yaml file\n",
      "INFO:root:Writing the species M-1P into the yaml file\n",
      "INFO:root:Writing the species M-1Pent into the yaml file\n",
      "INFO:root:Writing the species PE into the yaml file\n",
      "INFO:root:Writing the species E-1E into the yaml file\n",
      "INFO:root:Writing the species iPOM-1 into the yaml file\n",
      "INFO:root:Writing the species POM-1 into the yaml file\n",
      "INFO:root:Writing the species EE into the yaml file\n",
      "INFO:root:Writing the species P-3OM into the yaml file\n",
      "INFO:root:Writing the species O into the yaml file\n",
      "INFO:root:Writing the species CH3CHO into the yaml file\n",
      "INFO:root:Writing the species COOH into the yaml file\n",
      "INFO:root:Writing the species HCO into the yaml file\n",
      "INFO:root:Writing the species E-1OM into the yaml file\n",
      "INFO:root:Writing the species ME into the yaml file\n",
      "INFO:root:Writing the species M-1iB into the yaml file\n",
      "INFO:root:Writing the species MB into the yaml file\n",
      "INFO:root:Writing the species H2 into the yaml file\n",
      "INFO:root:Writing the species nC4H9O into the yaml file\n",
      "INFO:root:Writing the species CH3CHCHO into the yaml file\n",
      "INFO:root:Writing the species MP into the yaml file\n",
      "INFO:root:Writing the species MOM into the yaml file\n",
      "INFO:root:Writing the species 4-BOM into the yaml file\n",
      "INFO:root:Writing the species iC3H7CHO into the yaml file\n",
      "INFO:root:Writing the species C2H5CO into the yaml file\n",
      "INFO:root:Writing the species iP-2E into the yaml file\n",
      "INFO:root:Writing the species iC3H7COOH into the yaml file\n",
      "INFO:root:Writing the species iPE-1 into the yaml file\n",
      "INFO:root:Writing the species iBOM-1 into the yaml file\n",
      "INFO:root:Writing the species CH3O into the yaml file\n",
      "INFO:root:Writing the species iC3H7CO into the yaml file\n",
      "INFO:root:Writing the species E-2E into the yaml file\n",
      "INFO:root:Writing the species B-3OM into the yaml file\n",
      "INFO:root:Writing the species P-1E into the yaml file\n",
      "INFO:root:Writing the species iC3H6COOH-2 into the yaml file\n",
      "INFO:root:Writing the species nC4H8OH1-4 into the yaml file\n",
      "INFO:root:Writing the species iC3H6COOH-1 into the yaml file\n",
      "INFO:root:Writing the species nC4H8OH1-2 into the yaml file\n",
      "INFO:root:Writing the species nC4H8OH1-3 into the yaml file\n",
      "INFO:root:Writing the species nC4H8OH1-1 into the yaml file\n",
      "INFO:root:Writing the species CH2CH2CHO into the yaml file\n",
      "INFO:root:Writing the species PE-1 into the yaml file\n",
      "INFO:root:Writing the species CO2 into the yaml file\n",
      "INFO:root:Writing the species E-2OM into the yaml file\n",
      "INFO:root:Writing the species H2O into the yaml file\n",
      "INFO:root:Writing the species CH3CO into the yaml file\n",
      "INFO:root:Writing the species iC3H6 into the yaml file\n",
      "INFO:root:Writing the species iC3H7 into the yaml file\n",
      "INFO:root:Writing the species C2H5CHO into the yaml file\n",
      "INFO:root:Writing the species iPE into the yaml file\n",
      "INFO:root:Writing the species MiB-2 into the yaml file\n",
      "INFO:root:Writing the species B-2OM into the yaml file\n",
      "INFO:root:Writing the species MiB-1 into the yaml file\n",
      "INFO:root:Writing the species CH3OCO into the yaml file\n",
      "INFO:root:Writing the species C2H4COOH-1 into the yaml file\n",
      "INFO:root:Writing the species C2H4COOH-2 into the yaml file\n",
      "INFO:root:Writing the species CO into the yaml file\n",
      "INFO:root:Writing the species P-1OM into the yaml file\n",
      "INFO:root:Writing the species CH2CHO into the yaml file\n",
      "INFO:root:Writing the species MiB into the yaml file\n",
      "INFO:root:Writing the species EE-1 into the yaml file\n",
      "INFO:root:Writing the species MP-1 into the yaml file\n",
      "INFO:root:Writing the species MP-2 into the yaml file\n",
      "INFO:root:Writing the species POM into the yaml file\n",
      "INFO:root:Writing the species HO2 into the yaml file\n",
      "INFO:root:Writing the species BOM-1 into the yaml file\n",
      "INFO:root:Writing the species B-1OM into the yaml file\n",
      "INFO:root:Writing the species iB-3OM into the yaml file\n",
      "INFO:root:Writing the species C2H5COOH into the yaml file\n",
      "INFO:root:Writing the species ME-1 into the yaml file\n",
      "INFO:root:Writing the species P-2E into the yaml file\n",
      "INFO:root:Writing the species P-3E into the yaml file\n",
      "INFO:root:Writing the species MB-2 into the yaml file\n",
      "INFO:root:Writing the species MB-3 into the yaml file\n",
      "INFO:root:Writing the species MB-1 into the yaml file\n",
      "INFO:root:Writing the species iB-2OM into the yaml file\n",
      "INFO:root:Writing the species CH2CO into the yaml file\n",
      "INFO:root:Writing the species iP-1E into the yaml file\n"
     ]
    }
   ],
   "source": [
    "# Read the species list from yml_file\n",
    "if '.yaml' in source_file or '.yml' in source_file:\n",
    "    spc_list = read_spc_list_from_yml(source_file)\n",
    "elif '.txt' in source_file:\n",
    "    spc_dict = read_spc_dict_from_path(source_file)\n",
    "    spc_list = spc_dict_to_spc_list(spc_dict)\n",
    "    \n",
    "# Get the thermo libraries under work_dir\n",
    "thermo_lib_list = find_thermo_libs(work_dir)\n",
    "for thermo_lib in thermo_lib_list:\n",
    "    read_thermo_lib_by_path(thermo_lib, thermo_database)\n",
    "\n",
    "# Find the species not contained in any of the library\n",
    "not_include = []\n",
    "for spc in spc_list:\n",
    "    thermo = thermo_database.get_all_thermo_data(spc)\n",
    "    if len(thermo) == 1:  # only GA value\n",
    "        not_include.append(spc)\n",
    "        if disp:\n",
    "            display(spc)\n",
    "\n",
    "# Write the species list containing unique species\n",
    "# to a new yaml file'new_+[OLD_NAME]' \n",
    "write_spc_list_to_yml(not_include, save_path, info_type='smiles')"
   ]
  },
  {
   "cell_type": "code",
   "execution_count": null,
   "metadata": {},
   "outputs": [],
   "source": []
  }
 ],
 "metadata": {
  "@webio": {
   "lastCommId": null,
   "lastKernelId": null
  },
  "kernelspec": {
   "display_name": "Python 3",
   "language": "python",
   "name": "python3"
  },
  "language_info": {
   "codemirror_mode": {
    "name": "ipython",
    "version": 3
   },
   "file_extension": ".py",
   "mimetype": "text/x-python",
   "name": "python",
   "nbconvert_exporter": "python",
   "pygments_lexer": "ipython3",
   "version": "3.7.4"
  }
 },
 "nbformat": 4,
 "nbformat_minor": 2
}
