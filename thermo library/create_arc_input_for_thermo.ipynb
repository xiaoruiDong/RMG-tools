{
 "cells": [
  {
   "cell_type": "markdown",
   "metadata": {},
   "source": [
    "# Create ARC species input for thermo\n",
    "This script creates an ARC species input given a yml or a species dictionary. It will check if a species is included in any thermo libraries, and exclude it in the generated input file.\n",
    "Noted, the generated input may lack of necssary settings, and you need to add them before submit it as an ARC job."
   ]
  },
  {
   "cell_type": "markdown",
   "metadata": {},
   "source": [
    "### Necessary dependencies"
   ]
  },
  {
   "cell_type": "code",
   "execution_count": 1,
   "metadata": {},
   "outputs": [
    {
     "name": "stderr",
     "output_type": "stream",
     "text": [
      "RDKit WARNING: [20:55:35] Enabling RDKit 2019.09.1 jupyter extensions\n"
     ]
    }
   ],
   "source": [
    "import logging\n",
    "import os\n",
    "\n",
    "from rmgpy import settings\n",
    "from rmgpy.data.rmg import RMGDatabase\n",
    "\n",
    "from toolbox.species import read_spc_list_from_yml, write_spc_list_to_yml, \\\n",
    "                            read_spc_dict_from_path, spc_dict_to_spc_list\n",
    "from toolbox.thermolib import find_thermo_libs, read_thermo_lib_by_path, \\\n",
    "                              merge_thermo_lib, draw_free_energies\n",
    "\n",
    "%matplotlib inline\n",
    "%load_ext autoreload\n",
    "%autoreload 2\n",
    "\n",
    "logger = logging.getLogger()\n",
    "logger.setLevel(logging.INFO)"
   ]
  },
  {
   "cell_type": "markdown",
   "metadata": {},
   "source": [
    "###  [OPTIONAL] Assign a log file to record all the changes"
   ]
  },
  {
   "cell_type": "code",
   "execution_count": 2,
   "metadata": {},
   "outputs": [],
   "source": [
    "fh = logging.FileHandler('thermo_lib_tools.log', mode=\"a+\")\n",
    "fh.setLevel(logging.INFO)\n",
    "fh.setFormatter(logging.Formatter('%(asctime)s - %(levelname)s: %(message)s'))\n",
    "logger.addHandler(fh)"
   ]
  },
  {
   "cell_type": "markdown",
   "metadata": {},
   "source": [
    "### Load a RMG database instance\n",
    "You may need to add some RMG built-in libraries for your purpose. The generated `thermo_database` will be used in the later section."
   ]
  },
  {
   "cell_type": "code",
   "execution_count": 2,
   "metadata": {},
   "outputs": [
    {
     "name": "stderr",
     "output_type": "stream",
     "text": [
      "INFO:root:Loading thermodynamics group database from /Users/xiaorui/Apps/RMG-database/input/thermo/groups...\n",
      "INFO:root:Loading transport library from GRI-Mech.py in /Users/xiaorui/Apps/RMG-database/input/transport/libraries...\n",
      "INFO:root:Loading transport library from OneDMinN2.py in /Users/xiaorui/Apps/RMG-database/input/transport/libraries...\n",
      "INFO:root:Loading transport library from NOx2018.py in /Users/xiaorui/Apps/RMG-database/input/transport/libraries...\n",
      "INFO:root:Loading transport library from PrimaryTransportLibrary.py in /Users/xiaorui/Apps/RMG-database/input/transport/libraries...\n",
      "INFO:root:Loading transport group database from /Users/xiaorui/Apps/RMG-database/input/transport/groups...\n",
      "INFO:root:Loading frequencies group database from /Users/xiaorui/Apps/RMG-database/input/statmech/groups...\n",
      "INFO:root:Loading Platts additivity group database from /Users/xiaorui/Apps/RMG-database/input/solvation/groups...\n"
     ]
    }
   ],
   "source": [
    "database = RMGDatabase()\n",
    "database.load(\n",
    "    path = settings['database.directory'],\n",
    "    thermo_libraries = [],  # Can add other library if necessary\n",
    "    kinetics_families = \"default\",\n",
    "    reaction_libraries = [],\n",
    "    kinetics_depositories = ['training'],\n",
    ")\n",
    "\n",
    "thermo_database = database.thermo"
   ]
  },
  {
   "cell_type": "markdown",
   "metadata": {},
   "source": [
    "### [INPUT] Settings\n",
    "- `work_dir` (str): indicate where your ARC jobs are located. Do not need to provide the full path to the file because the script will search for the thermolibrary.\n",
    "- `source_file` (str): the full path to an ARC input file or species dictionary\n",
    "- `save_path` (str): the full path save to the new ARC input file\n",
    "- `disp` (bool): determine whether to display the molecule"
   ]
  },
  {
   "cell_type": "code",
   "execution_count": 4,
   "metadata": {},
   "outputs": [],
   "source": [
    "work_dir = '../media/thermo library/check_species_in_thermo_library/'\n",
    "source_file = '../media/thermo library/check_species_in_thermo_library/input.yml'\n",
    "save_path = ''\n",
    "disp = True"
   ]
  },
  {
   "cell_type": "code",
   "execution_count": 5,
   "metadata": {
    "scrolled": false
   },
   "outputs": [
    {
     "name": "stderr",
     "output_type": "stream",
     "text": [
      "INFO:root:Find thermo library at ../media/thermo library/check_species_in_thermo_library/fake_arc_project/output/RMG libraries/thermo/BA.py\n",
      "INFO:root:Loading thermodynamics library BA.py from ../media/thermo library/check_species_in_thermo_library/fake_arc_project/output/RMG libraries/thermo ...\n"
     ]
    },
    {
     "data": {
      "image/png": "[encoded data removed]",
      "text/plain": [
       "Species(label=\"tBA\", molecule=[Molecule(smiles=\"CC(=O)OC(C)(C)C\")], molecular_weight=(116.158,'amu'))"
      ]
     },
     "metadata": {},
     "output_type": "display_data"
    },
    {
     "name": "stderr",
     "output_type": "stream",
     "text": [
      "INFO:root:Writing the species tBA in to the yaml file\n"
     ]
    }
   ],
   "source": [
    "# Read the species list from yml_file\n",
    "if '.yaml' in source_file or '.yml' in source_file:\n",
    "    spc_list = read_spc_list_from_yml(source_file)\n",
    "elif '.txt' in source_file:\n",
    "    spc_dict = read_spc_dict_from_path(source_file)\n",
    "    spc_list = spc_dict_to_spc_list(spc_dict)\n",
    "    \n",
    "# Get the thermo libraries under work_dir\n",
    "thermo_lib_list = find_thermo_libs(work_dir)\n",
    "for thermo_lib in thermo_lib_list:\n",
    "    read_thermo_lib_by_path(thermo_lib, thermo_database)\n",
    "\n",
    "# Find the species not contained in any of the library\n",
    "not_include = []\n",
    "for spc in spc_list:\n",
    "    thermo = thermo_database.get_all_thermo_data(spc)\n",
    "    if len(thermo) == 1:  # only GA value\n",
    "        not_include.append(spc)\n",
    "        if disp:\n",
    "            display(spc)\n",
    "\n",
    "# Write the species list containing unique species\n",
    "# to a new yaml file'new_+[OLD_NAME]' \n",
    "write_spc_list_to_yml(not_include, save_path)"
   ]
  },
  {
   "cell_type": "code",
   "execution_count": null,
   "metadata": {},
   "outputs": [],
   "source": []
  }
 ],
 "metadata": {
  "@webio": {
   "lastCommId": null,
   "lastKernelId": null
  },
  "kernelspec": {
   "display_name": "Python 3",
   "language": "python",
   "name": "python3"
  },
  "language_info": {
   "codemirror_mode": {
    "name": "ipython",
    "version": 3
   },
   "file_extension": ".py",
   "mimetype": "text/x-python",
   "name": "python",
   "nbconvert_exporter": "python",
   "pygments_lexer": "ipython3",
   "version": "3.7.4"
  }
 },
 "nbformat": 4,
 "nbformat_minor": 2
}
